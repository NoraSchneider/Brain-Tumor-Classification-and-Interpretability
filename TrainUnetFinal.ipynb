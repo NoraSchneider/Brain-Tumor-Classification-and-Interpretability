{
 "cells": [
  {
   "cell_type": "markdown",
   "metadata": {
    "id": "qdQS4hRMpPsK"
   },
   "source": [
    "# Setup"
   ]
  },
  {
   "cell_type": "markdown",
   "metadata": {
    "id": "3F4RWmtYpSpK"
   },
   "source": [
    "## Add dependencies"
   ]
  },
  {
   "cell_type": "code",
   "execution_count": null,
   "metadata": {
    "id": "w0jRqpTtPPmi"
   },
   "outputs": [],
   "source": [
    "from pathlib import Path\n",
    "import sys\n",
    "sys.path.append(\".\")\n"
   ]
  },
  {
   "cell_type": "markdown",
   "metadata": {
    "id": "k0r3oo2UpLOO"
   },
   "source": [
    "## Detect Device"
   ]
  },
  {
   "cell_type": "code",
   "execution_count": null,
   "metadata": {
    "id": "xk2UlbLsK29Q"
   },
   "outputs": [],
   "source": [
    "import torch\n",
    "\n",
    "device = \"cuda:0\" if torch.cuda.is_available() else \"cpu\""
   ]
  },
  {
   "cell_type": "markdown",
   "metadata": {
    "id": "HYI7C4HwpVZC"
   },
   "source": [
    "# Load & Pre-process Data"
   ]
  },
  {
   "cell_type": "code",
   "execution_count": null,
   "metadata": {
    "colab": {
     "base_uri": "https://localhost:8080/"
    },
    "id": "afa75SoiQVvm",
    "outputId": "89101c3b-94c7-491c-ba06-4d32f7b3641a"
   },
   "outputs": [],
   "source": [
    "from data import get_img_dataset\n",
    "from masked_dataset import MaskedDataset\n",
    "from torchvision import transforms\n",
    "from project3Lib import EnhanceContrast, ScaleToFill, SubtractPCA\n",
    "\n",
    "train_dataset, val_dataset, test_dataset = get_img_dataset(\n",
    "      device=device, \n",
    "      data_path=Path(\"/content/data/unique_images\"), \n",
    "      folder_type=MaskedDataset, \n",
    "      mask_folder=Path(\"/content/data/masks\"),\n",
    "      common_transforms = [\n",
    "          EnhanceContrast(reduce_dim = True)\n",
    "      ]\n",
    ")\n",
    "\n",
    "train_dataset_unlabeled, val_dataset_unlabeled, test_dataset_unlabeled = get_img_dataset(\n",
    "      device=device, \n",
    "      data_path=Path(\"/content/data/tl_dataset\"), \n",
    "      folder_type=MaskedDataset, \n",
    "      mask_folder=None,\n",
    "      use_empty_mask = True,\n",
    "      common_transforms = [\n",
    "          EnhanceContrast(reduce_dim = True)\n",
    "      ]\n",
    ")"
   ]
  },
  {
   "cell_type": "markdown",
   "metadata": {
    "id": "H7jf2M_RpaDU"
   },
   "source": [
    "# Train Models"
   ]
  },
  {
   "cell_type": "markdown",
   "metadata": {
    "id": "rbN8_w24q_tG"
   },
   "source": [
    "## Helper functions for "
   ]
  },
  {
   "cell_type": "code",
   "execution_count": null,
   "metadata": {
    "id": "_lUksam-i-OO"
   },
   "outputs": [],
   "source": [
    "from project3Lib import UNet, MaxClassifier, dice_loss\n",
    "from sklearn.metrics import f1_score, accuracy_score, confusion_matrix\n",
    "import numpy as np\n",
    "\n",
    "def get_model(train_dataset, val_dataset, device, train_dataset_unlabeled=None, **kwargs):\n",
    "    \n",
    "    # Create segmentation model\n",
    "    model = UNet(1, 1)\n",
    "    model.to(device=device)\n",
    "    if train_dataset_unlabeled is None:\n",
    "        model.train_supervised(list(train_dataset), list(val_dataset), **kwargs)\n",
    "    else:\n",
    "        model.train_semisupervised(list(train_dataset), list(val_dataset), list(train_dataset_unlabeled), **kwargs)\n",
    "    \n",
    "    # Construct MaxClassifier\n",
    "    classifier = MaxClassifier(model)\n",
    "    classifier.fit(val_dataset)\n",
    "\n",
    "    return classifier\n"
   ]
  },
  {
   "cell_type": "markdown",
   "metadata": {
    "id": "iNFvqB_zpcCU"
   },
   "source": [
    "## Select Hyperparameters"
   ]
  },
  {
   "cell_type": "code",
   "execution_count": null,
   "metadata": {
    "id": "1_U2ShH9pe6N"
   },
   "outputs": [],
   "source": [
    "import optuna\n",
    "from project3Lib import dice_loss\n",
    "\n",
    "# Objective to optimize dice loss over \n",
    "# validation set for different hyper parameters\n",
    "def objective(trial, train_dataset, val_dataset, device, train_dataset_unlabeled=None, **kwargs):\n",
    "\n",
    "    # Sugest parameters\n",
    "    if train_dataset_unlabeled is None:\n",
    "        kwargs[\"alpha\"] = trial.suggest_float(\"alpha\", 0, 1)\n",
    "        kwargs[\"epochs\"] = trial.suggest_int(\"epochs\", 5, 20)\n",
    "        kwargs[\"lr\"] = trial.suggest_float(\"lr\", 1e-6, 1e-4)\n",
    "    else:\n",
    "        kwargs[\"beta\"] = trial.suggest_float(\"beta\", 0.1, 10)\n",
    "\n",
    "    # Train model\n",
    "    model = get_model(train_dataset, val_dataset, device, train_dataset_unlabeled, **kwargs)\n",
    "\n",
    "    # Compute validation dice loss\n",
    "    with torch.no_grad():\n",
    "        val_dice = 0\n",
    "        for x, target, _ in val_dataset:\n",
    "            pred = model.model(x)\n",
    "            val_dice += dice_loss(pred, target.unsqueeze(0))\n",
    "\n",
    "    return val_dice.item()\n",
    "\n",
    "# Optimize the hyperparameters for supervised model\n",
    "study_supervised = optuna.create_study(direction=\"minimize\") \n",
    "best_trial = study_supervised.optimize(\n",
    "    lambda trial: objective(trial, train_dataset, val_dataset, device), \n",
    "    n_trials=50\n",
    ")\n",
    "\n",
    "# Use found parameters\n",
    "alpha = study_supervised.best_params[\"alpha\"]\n",
    "epochs = study_supervised.best_params[\"epochs\"]\n",
    "lr = study_supervised.best_params[\"lr\"]\n",
    "\n",
    "# Optimize the hyperparameters for semi-supervised \n",
    "# model with consistancy regularization\n",
    "study_semisupervised = optuna.create_study(direction=\"minimize\") \n",
    "best_trial = study_semisupervised.optimize(\n",
    "    lambda trial: objective(trial, train_dataset, val_dataset, device, train_dataset_unlabeled, \n",
    "                            alpha=alpha, epochs=epochs, lr=lr), \n",
    "    n_trials=10\n",
    ")\n",
    "\n",
    "# Use found parameters\n",
    "beta = study_semisupervised.best_params[\"beta\"]\n"
   ]
  },
  {
   "cell_type": "markdown",
   "metadata": {
    "id": "QRLDzThb1sO_"
   },
   "source": [
    "## Train and test the final models"
   ]
  },
  {
   "cell_type": "code",
   "execution_count": null,
   "metadata": {
    "id": "WYivgUHDYObC"
   },
   "outputs": [],
   "source": [
    "# Helper function for testing the quality of the different models\n",
    "def test_model(model_fn, test_dataset, n_expreiments = 10):\n",
    "\n",
    "    # Values to compute\n",
    "    dice_values, f1_values, acc_values, cm_values = [], [], [], []\n",
    "\n",
    "    # Retrain model multiple times and report metrics\n",
    "    for _ in range(n_expreiments):\n",
    "\n",
    "        classifier = model_fn()\n",
    "\n",
    "        dice = 0\n",
    "        preds = []\n",
    "        truth = []\n",
    "        for x, target, label in test_dataset:\n",
    "            dice += 1 - dice_loss(classifier.model(x), target.unsqueeze(0)).item()\n",
    "            preds.append(classifier(x).item())\n",
    "            truth.append(label)\n",
    "        dice /= len(test_dataset)\n",
    "\n",
    "        dice_values.append(dice)\n",
    "        f1_values.append(f1_score(truth, preds))\n",
    "        acc_values.append(accuracy_score(truth, preds))\n",
    "        cm_values.append(confusion_matrix(truth, preds))\n",
    "\n",
    "    # Return metrics\n",
    "    return np.array(dice_values), np.array(f1_values), np.array(acc_values), np.array(cm_values)\n",
    "\n",
    "\n",
    "# Compute metrics for unregularized model\n",
    "dice_supervised, f1_supervised, acc_supervised, cm_supervised = test_model(\n",
    "    lambda: get_model(train_dataset, val_dataset, device, \n",
    "                      alpha=alpha, epochs=epochs, lr=lr), \n",
    "    test_dataset, n_expreiments = 10\n",
    ")\n",
    "np.save(\"dice_supervised\", dice_supervised)\n",
    "np.save(\"f1_supervised\", f1_supervised)\n",
    "np.save(\"acc_supervised\", acc_supervised)\n",
    "np.save(\"cm_supervised\", cm_supervised)\n",
    "\n",
    "# Compute metrics for regularized model\n",
    "dice_values, f1_values, acc_values, cm_values = test_model(\n",
    "    lambda: get_model(train_dataset, val_dataset, device, train_dataset_unlabeled,\n",
    "                      alpha=alpha, epochs=epochs, lr=lr, beta=beta), \n",
    "    test_dataset, n_expreiments = 10\n",
    ")\n",
    "np.save(\"dice_semi\", dice_values)\n",
    "np.save(\"f1_semi\", f1_values)\n",
    "np.save(\"acc_semi\", acc_values)\n",
    "np.save(\"cm_semi\", cm_values)\n"
   ]
  },
  {
   "cell_type": "markdown",
   "metadata": {
    "id": "fgLqq4QM4PhS"
   },
   "source": [
    "# Interpret Trained Models "
   ]
  },
  {
   "cell_type": "code",
   "execution_count": null,
   "metadata": {
    "id": "xED8lBiOgI75"
   },
   "outputs": [],
   "source": [
    "from project3Lib import gradcam_unet, integrad_unet, shap_unet, evaluate_interpretability\n",
    "import matplotlib.pyplot as plt\n",
    "import numpy as np\n",
    "\n",
    "def interpret_model(model, test_dataset, plot = True):\n",
    "\n",
    "    gc_scores, ig_scores, shap_scores = [], [], []\n",
    "    background = torch.concat([x for x, _, _ in val_dataset])\n",
    "    for im, target, label in test_dataset:\n",
    "\n",
    "        # GradCam\n",
    "        attr_gc = gradcam_unet(model, model.down3, im, target, label).cpu().detach()\n",
    "        gc_scores.append(evaluate_interpretability(-attr_gc[0, 0], target[0].cpu(), torch.count_nonzero(target).item()))\n",
    "\n",
    "        # Integrated Gradients\n",
    "        attr_ig = integrad_unet(model, im, target, label).cpu().detach()\n",
    "        ig_scores.append(evaluate_interpretability(attr_ig[0, 0], target[0].cpu(), torch.count_nonzero(target).item()))\n",
    "\n",
    "        # Shap \n",
    "        attr_shap = shap_unet(model, background, im, target, label)\n",
    "        shap_scores.append(evaluate_interpretability(attr_shap[0, 0], target[0].cpu(), torch.count_nonzero(target).item()))\n",
    "\n",
    "        if plot:\n",
    "\n",
    "            pred = model(im).cpu().detach()\n",
    "\n",
    "            f, axarr = plt.subplots(1, 5)\n",
    "            im = im.cpu().detach()\n",
    "            axarr[0].imshow(im[0, 0], cmap='gray')\n",
    "            axarr[0].imshow(target[0].cpu(), alpha=0.5, cmap=\"jet\")\n",
    "            axarr[1].imshow(pred[0, 0], cmap='gray')\n",
    "            axarr[2].imshow(attr_gc[0, 0], alpha=0.5, cmap=\"gray\")\n",
    "            axarr[3].imshow(attr_ig[0, 0], alpha=0.5, cmap=\"gray\")\n",
    "            axarr[4].imshow(attr_shap[0, 0], alpha=0.5, cmap=\"gray\")\n",
    "            plt.show()\n",
    "\n",
    "    return np.array(gc_scores), np.array(ig_scores), np.array(shap_scores)\n",
    "\n",
    "\n",
    "# Interpret unregularized model\n",
    "gc_supervised, ig_supervised, shap_supervised = interpret_model(\n",
    "    get_model(train_dataset, val_dataset, device, alpha=alpha, epochs=epochs, lr=lr).model, \n",
    "    test_dataset, plot=True\n",
    ")\n",
    "np.save(\"gc_supervised\", gc_supervised)\n",
    "np.save(\"ig_supervised\", ig_supervised)\n",
    "np.save(\"shap_supervised\", shap_supervised)\n",
    "\n",
    "# Interpret regularized model\n",
    "gc_semi, ig_semi, shap_semi = interpret_model(\n",
    "    get_model(train_dataset, val_dataset, device, train_dataset_unlabeled, alpha=alpha, epochs=epochs, lr=lr, beta=beta).model, \n",
    "    test_dataset, plot=True\n",
    ")\n",
    "np.save(\"gc_semi\", gc_semi)\n",
    "np.save(\"ig_semi\", ig_semi)\n",
    "np.save(\"shap_semi\", shap_semi)\n"
   ]
  }
 ],
 "metadata": {
  "accelerator": "GPU",
  "colab": {
   "collapsed_sections": [],
   "name": "TrainUnetFinal.ipynb",
   "provenance": []
  },
  "kernelspec": {
   "display_name": "Python 3",
   "language": "python",
   "name": "python3"
  },
  "language_info": {
   "codemirror_mode": {
    "name": "ipython",
    "version": 3
   },
   "file_extension": ".py",
   "mimetype": "text/x-python",
   "name": "python",
   "nbconvert_exporter": "python",
   "pygments_lexer": "ipython3",
   "version": "3.8.8"
  }
 },
 "nbformat": 4,
 "nbformat_minor": 1
}
