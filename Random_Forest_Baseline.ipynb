{
 "cells": [
  {
   "cell_type": "code",
   "execution_count": null,
   "id": "38f9055f",
   "metadata": {},
   "outputs": [],
   "source": [
    "import matplotlib.pyplot as plt\n",
    "from data import get_radiomics_dataset\n",
    "from torchvision import transforms\n",
    "import torch\n",
    "from torch.utils.data import TensorDataset, DataLoader\n",
    "import numpy as np\n",
    "\n",
    "from sklearn.model_selection import PredefinedSplit, RandomizedSearchCV\n",
    "from sklearn.feature_selection import SelectKBest, mutual_info_classif\n",
    "from sklearn.ensemble import RandomForestClassifier\n",
    "\n",
    "from sklearn.metrics import confusion_matrix, ConfusionMatrixDisplay\n",
    "from sklearn import metrics\n",
    "\n",
    "import lime\n",
    "import lime.lime_tabular"
   ]
  },
  {
   "cell_type": "code",
   "execution_count": null,
   "id": "0e22a546",
   "metadata": {},
   "outputs": [],
   "source": [
    "train_data, train_labels, val_data, val_labels, test_data, test_labels = get_radiomics_dataset()"
   ]
  },
  {
   "cell_type": "code",
   "execution_count": null,
   "id": "16422ba6",
   "metadata": {},
   "outputs": [],
   "source": [
    "train_data.head()"
   ]
  },
  {
   "cell_type": "code",
   "execution_count": null,
   "id": "c1f21c4e",
   "metadata": {},
   "outputs": [],
   "source": [
    "train_data.info()"
   ]
  },
  {
   "cell_type": "code",
   "execution_count": null,
   "id": "cf8d59d6",
   "metadata": {},
   "outputs": [],
   "source": [
    "train_data.describe()"
   ]
  },
  {
   "cell_type": "code",
   "execution_count": null,
   "id": "3f6cf405",
   "metadata": {},
   "outputs": [],
   "source": [
    "# get null values\n",
    "null_values = train_data.isnull().sum().sum()\n",
    "print('Null:', null_values)\n",
    "# get nan values\n",
    "nan_values = np.isnan(train_data.values).sum()\n",
    "print('Nan:', nan_values)"
   ]
  },
  {
   "cell_type": "code",
   "execution_count": null,
   "id": "fca4e5d1",
   "metadata": {},
   "outputs": [],
   "source": [
    "X_train = np.array(train_data.values)\n",
    "X_val = np.array(val_data.values)\n",
    "X_test = np.array(test_data.values)\n",
    "\n",
    "X = np.concatenate((X_train, X_val))\n",
    "Y = np.concatenate((train_labels, val_labels))\n",
    "\n",
    "feature_list = list(train_data.columns)\n",
    "X_train.shape"
   ]
  },
  {
   "cell_type": "markdown",
   "id": "a803b334",
   "metadata": {},
   "source": [
    "### First attempt at running a model"
   ]
  },
  {
   "cell_type": "code",
   "execution_count": null,
   "id": "5d4ab392",
   "metadata": {},
   "outputs": [],
   "source": [
    "# Instantiate random forest and train on new features\n",
    "rf_clf = RandomForestClassifier(n_estimators= 1000, random_state=1, n_jobs=-1, verbose = 1)\n",
    "rf_clf.fit(X_train, train_labels)"
   ]
  },
  {
   "cell_type": "code",
   "execution_count": null,
   "id": "0344a450",
   "metadata": {},
   "outputs": [],
   "source": [
    "y_val_pred=rf_clf.predict(X_val)\n",
    "\n",
    "from sklearn import metrics\n",
    "# Model Accuracy, how often is the classifier correct?\n",
    "print(\"Accuracy:\",metrics.accuracy_score(val_labels, y_val_pred))"
   ]
  },
  {
   "cell_type": "markdown",
   "id": "88225dd0",
   "metadata": {},
   "source": [
    "## Hyperparameter Search for Random Forest"
   ]
  },
  {
   "cell_type": "markdown",
   "id": "b232f8c9",
   "metadata": {},
   "source": [
    "We need to find a better performing hyperparameter combination through randomized search. Since the dataset is very small, searching based only one one validation set can easily cause overfitting on that set, so we combine the train and validation sets and carry out 5 fold cross validation on the combined dataset instead."
   ]
  },
  {
   "cell_type": "markdown",
   "id": "e011e072",
   "metadata": {},
   "source": [
    "### Hyperparameter Space:"
   ]
  },
  {
   "cell_type": "code",
   "execution_count": null,
   "id": "ca1b766e",
   "metadata": {},
   "outputs": [],
   "source": [
    "# Number of trees in random forest\n",
    "n_estimators = [int(x) for x in np.linspace(start = 100, stop = 1000, num = 10)]\n",
    "# Number of features to consider at every split\n",
    "max_features = ['auto', 'sqrt']\n",
    "# Maximum number of levels in tree\n",
    "max_depth = [int(x) for x in np.linspace(5, 100, num = 10)]\n",
    "#max_depth.append(None)\n",
    "# Minimum number of samples required to split a node\n",
    "min_samples_split = [2, 5, 10]\n",
    "# Minimum number of samples required at each leaf node\n",
    "min_samples_leaf = [1, 2, 4]\n",
    "# Method of selecting samples for training each tree\n",
    "bootstrap = [True, False]\n",
    "# Create the random grid\n",
    "random_grid = {'n_estimators': n_estimators,\n",
    "               'max_features': max_features,\n",
    "               'max_depth': max_depth,\n",
    "               'min_samples_split': min_samples_split,\n",
    "               'min_samples_leaf': min_samples_leaf,\n",
    "               'bootstrap': bootstrap}"
   ]
  },
  {
   "cell_type": "markdown",
   "id": "61b01eec",
   "metadata": {},
   "source": [
    "### Searching for Hyperparameters:"
   ]
  },
  {
   "cell_type": "code",
   "execution_count": null,
   "id": "52b31cf1",
   "metadata": {},
   "outputs": [],
   "source": [
    "X = np.concatenate((X_train, X_val))\n",
    "Y = np.concatenate((train_labels, val_labels))"
   ]
  },
  {
   "cell_type": "code",
   "execution_count": null,
   "id": "8a8398a3",
   "metadata": {
    "scrolled": true
   },
   "outputs": [],
   "source": [
    "# Use the random grid to search for best hyperparameters\n",
    "rf = RandomForestClassifier()\n",
    "\n",
    "# Use the list to create PredefinedSplit\n",
    "#pds = PredefinedSplit(test_fold = split_index)\n",
    "\n",
    "# Use PredefinedSplit in RandomizedSearchCV\n",
    "clf = RandomizedSearchCV(estimator = rf, cv=5, param_distributions=random_grid,\n",
    "                          n_iter = 300, verbose=4, random_state=1, n_jobs = -1 )\n",
    "\n",
    "# Fit with all data\n",
    "clf.fit(X, Y)"
   ]
  },
  {
   "cell_type": "markdown",
   "id": "a472e135",
   "metadata": {},
   "source": [
    "```\n",
    "Fitting 5 folds for each of 300 candidates, totalling 1500 fits\n",
    "RandomizedSearchCV(cv=5, estimator=RandomForestClassifier(), n_iter=300,\n",
    "                   n_jobs=-1,\n",
    "                   param_distributions={'bootstrap': [True, False],\n",
    "                                        'max_depth': [5, 15, 26, 36, 47, 57, 68,\n",
    "                                                      78, 89, 100],\n",
    "                                        'max_features': ['auto', 'sqrt'],\n",
    "                                        'min_samples_leaf': [1, 2, 4],\n",
    "                                        'min_samples_split': [2, 5, 10],\n",
    "                                        'n_estimators': [100, 200, 300, 400,\n",
    "                                                         500, 600, 700, 800,\n",
    "                                                         900, 1000]},\n",
    "                   random_state=1, verbose=4)\n",
    "```"
   ]
  },
  {
   "cell_type": "code",
   "execution_count": null,
   "id": "47964482",
   "metadata": {},
   "outputs": [],
   "source": [
    "clf.best_params_"
   ]
  },
  {
   "cell_type": "markdown",
   "id": "457c278d",
   "metadata": {},
   "source": [
    "best_params\n",
    "```\n",
    "{'n_estimators': 800,\n",
    " 'min_samples_split': 10,\n",
    " 'min_samples_leaf': 4,\n",
    " 'max_features': 'auto',\n",
    " 'max_depth': 47,\n",
    " 'bootstrap': False}\n",
    "```"
   ]
  },
  {
   "cell_type": "markdown",
   "id": "cb553951",
   "metadata": {},
   "source": [
    "## Final Baseline Result"
   ]
  },
  {
   "cell_type": "code",
   "execution_count": null,
   "id": "b21cf928",
   "metadata": {},
   "outputs": [],
   "source": [
    "try:\n",
    "    best_model = clf.best_estimator_\n",
    "except NameError:\n",
    "    best_model = RandomForestClassifier(n_estimators=800, min_samples_split =10, min_samples_leaf=4, max_features='auto', max_depth=47, bootstrap=False)\n",
    "    best_model.fit(X, Y)\n",
    "\n",
    "y_test_pred=best_model.predict(X_test)\n",
    "\n",
    "# Model Accuracy, how often is the classifier correct?\n",
    "print(\"Accuracy:\",metrics.accuracy_score(test_labels, y_test_pred))\n",
    "print(\"F1 Score:\",metrics.f1_score(test_labels, y_test_pred))\n",
    "\n",
    "cm = confusion_matrix(test_labels, y_test_pred, labels=best_model.classes_)\n",
    "ConfusionMatrixDisplay(confusion_matrix=cm,\n",
    "                             display_labels=best_model.classes_).plot()\n",
    "plt.show()"
   ]
  },
  {
   "cell_type": "markdown",
   "id": "9d19ffd6",
   "metadata": {},
   "source": [
    "```\n",
    "Accuracy: 0.7857142857142857\n",
    "F1 Score: 0.8500000000000001\n",
    "```\n",
    "\n",
    "![](Plots/CM_RandomForestBaseline.png)"
   ]
  },
  {
   "cell_type": "markdown",
   "id": "e940ef67",
   "metadata": {},
   "source": [
    "## Interpretability of Random Forest using LIME\n",
    "\n",
    "### Creating model explainer"
   ]
  },
  {
   "cell_type": "code",
   "execution_count": null,
   "id": "c2e0d5dc",
   "metadata": {},
   "outputs": [],
   "source": [
    "predict_func = lambda x: best_model.predict_proba(x).astype(float)\n",
    "explainer = lime.lime_tabular.LimeTabularExplainer(X_train,feature_names = train_data.columns,class_names=['No Tumor','Tumor'],kernel_width=5)"
   ]
  },
  {
   "cell_type": "code",
   "execution_count": null,
   "id": "ee6a00ed",
   "metadata": {},
   "outputs": [],
   "source": [
    "sample = val_data.loc[[4]].values[0]\n",
    "exp = explainer.explain_instance(data_row=val_data.loc[4], predict_fn=best_model.predict_proba ,num_features=10)\n",
    "exp.show_in_notebook(show_table=True)"
   ]
  },
  {
   "cell_type": "code",
   "execution_count": null,
   "id": "ee23606b",
   "metadata": {},
   "outputs": [],
   "source": [
    "sample2 = val_data.values[5]\n",
    "exp = explainer.explain_instance(sample2, predict_func,num_features=5, num_samples=500)\n",
    "exp.show_in_notebook(show_all=False)"
   ]
  },
  {
   "cell_type": "code",
   "execution_count": null,
   "id": "d1f7adaf",
   "metadata": {
    "scrolled": false
   },
   "outputs": [],
   "source": [
    "sample3 = val_data.values[10]\n",
    "exp = explainer.explain_instance(sample3, predict_func,num_features=15, num_samples=500)\n",
    "exp.show_in_notebook(show_all=False)"
   ]
  },
  {
   "cell_type": "markdown",
   "id": "13f9371b",
   "metadata": {},
   "source": [
    "## SHAP"
   ]
  },
  {
   "cell_type": "code",
   "execution_count": null,
   "id": "137e34da",
   "metadata": {},
   "outputs": [],
   "source": [
    "import shap \n",
    "\n",
    "# Create Tree Explainer object that can calculate shap values\n",
    "explainer = shap.TreeExplainer(best_model)\n",
    "\n",
    "index = 10\n",
    "sample = test_data.iloc[index]\n",
    "\n",
    "shap_values = explainer.shap_values(sample)\n",
    "print(f\"Prediction: {best_model.predict(sample.values.reshape(1,-1))[0]}, True Label: {test_labels[index]}\")\n",
    "shap.initjs()\n",
    "shap.force_plot(explainer.expected_value[1], shap_values[1], sample)"
   ]
  },
  {
   "cell_type": "code",
   "execution_count": null,
   "id": "5935895b",
   "metadata": {},
   "outputs": [],
   "source": [
    "shap_values = explainer.shap_values(test_data)\n",
    "shap.summary_plot(shap_values, test_data)"
   ]
  },
  {
   "cell_type": "code",
   "execution_count": null,
   "id": "32ea52e4",
   "metadata": {},
   "outputs": [],
   "source": [
    "# Feature importance based on random forest MDI\n",
    "importances = best_model.feature_importances_\n",
    "indices = np.argpartition(importances, -10)[-10:]\n",
    "features = train_data.columns\n",
    "plt.title('Feature Importances')\n",
    "plt.barh(range(len(indices)), importances[indices], color='b', align='center')\n",
    "plt.yticks(range(len(indices)), [features[i] for i in indices])\n",
    "plt.xlabel('Relative Importance')\n",
    "plt.show()"
   ]
  },
  {
   "cell_type": "code",
   "execution_count": null,
   "id": "4f1cbf7c",
   "metadata": {},
   "outputs": [],
   "source": [
    "from sklearn.inspection import permutation_importance\n",
    "\n",
    "# Feature importance based on random forest\n",
    "result = permutation_importance(\n",
    "    best_model, X_test, test_labels, n_repeats=10, random_state=42, n_jobs=-1\n",
    ")\n",
    "\n",
    "sorted_idx = result.importances_mean.argsort()\n",
    "\n",
    "fig, ax = plt.subplots()\n",
    "ax.boxplot(\n",
    "    result.importances[sorted_idx[-10:]].T, vert=False, labels=train_data.columns[sorted_idx[-10:]]\n",
    ")\n",
    "ax.set_title(\"Permutation Importances (test set)\")\n",
    "ax.set_xlabel('Relative Importance')\n",
    "fig.tight_layout()\n",
    "plt.show()"
   ]
  },
  {
   "cell_type": "markdown",
   "id": "517fadfc",
   "metadata": {},
   "source": [
    "## Feature Selection --- doesnt work well, may be discarded\n",
    "\n",
    "We observe whether selecting a subset of dataset features improves model performance."
   ]
  },
  {
   "cell_type": "code",
   "execution_count": null,
   "id": "34ef4687",
   "metadata": {},
   "outputs": [],
   "source": [
    "from sklearn.feature_selection import  f_classif \n",
    "k=50\n",
    "\n",
    "select = SelectKBest(score_func=f_classif, k=k)\n",
    "X_train_kbest = select.fit_transform(X_train,train_labels)\n",
    "X_val_kbest = select.transform(X_val)\n",
    "X_test_kbest = select.transform(X_test)\n"
   ]
  },
  {
   "cell_type": "code",
   "execution_count": null,
   "id": "0788b204",
   "metadata": {},
   "outputs": [],
   "source": [
    "\n",
    "# Use the random grid to search for best hyperparameters\n",
    "rf_kbest = RandomForestClassifier()\n",
    "\n",
    "\n",
    "X = np.concatenate((X_train_kbest, X_val_kbest))\n",
    "Y = np.concatenate((train_labels, val_labels))\n",
    "\n",
    "# Use the list to create PredefinedSplit\n",
    "#pds = PredefinedSplit(test_fold = split_index)\n",
    "\n",
    "# Use PredefinedSplit in RandomizedSearchCV\n",
    "clf_kbest = RandomizedSearchCV(estimator = rf_kbest, cv=5, param_distributions=random_grid,\n",
    "                          n_iter = 100, verbose=4, random_state=1, n_jobs = -1 )\n",
    "\n",
    "# Fit with all data\n",
    "clf_kbest.fit(X, Y)"
   ]
  },
  {
   "cell_type": "code",
   "execution_count": null,
   "id": "4d960fe5",
   "metadata": {},
   "outputs": [],
   "source": [
    "clf_kbest.best_params_"
   ]
  },
  {
   "cell_type": "code",
   "execution_count": null,
   "id": "9781a4c6",
   "metadata": {},
   "outputs": [],
   "source": [
    "best_model = clf_kbest.best_estimator_\n",
    "y_test_pred=best_model.predict(X_test_kbest)\n",
    "\n",
    "# Model Accuracy, how often is the classifier correct?\n",
    "print(\"Accuracy:\",metrics.accuracy_score(test_labels, y_test_pred))\n",
    "print(\"F1 Score:\",metrics.f1_score(test_labels, y_test_pred))\n",
    "\n",
    "cm = confusion_matrix(test_labels, y_test_pred, labels=best_model.classes_)\n",
    "ConfusionMatrixDisplay(confusion_matrix=cm,\n",
    "                             display_labels=best_model.classes_).plot()\n",
    "plt.show()"
   ]
  }
 ],
 "metadata": {
  "kernelspec": {
   "display_name": "Python 3",
   "language": "python",
   "name": "python3"
  },
  "language_info": {
   "codemirror_mode": {
    "name": "ipython",
    "version": 3
   },
   "file_extension": ".py",
   "mimetype": "text/x-python",
   "name": "python",
   "nbconvert_exporter": "python",
   "pygments_lexer": "ipython3",
   "version": "3.8.8"
  }
 },
 "nbformat": 4,
 "nbformat_minor": 5
}
