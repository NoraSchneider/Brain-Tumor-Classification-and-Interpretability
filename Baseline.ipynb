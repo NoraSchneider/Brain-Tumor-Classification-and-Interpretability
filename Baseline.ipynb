{
 "cells": [
  {
   "cell_type": "markdown",
   "id": "a6933968",
   "metadata": {},
   "source": [
    "# Task 2: Baseline CNN"
   ]
  },
  {
   "cell_type": "code",
   "execution_count": null,
   "id": "56ce3d4c",
   "metadata": {},
   "outputs": [],
   "source": [
    "import numpy as np\n",
    "%matplotlib inline\n",
    "import matplotlib.pyplot as plt\n",
    "from sklearn.metrics import accuracy_score, f1_score, plot_confusion_matrix, confusion_matrix, ConfusionMatrixDisplay\n",
    "\n",
    "import torch\n",
    "from torchvision import datasets, models, transforms\n",
    "import torch.nn as nn\n",
    "from torch.nn import functional as F\n",
    "from torch.nn import CrossEntropyLoss\n",
    "from torch.optim import Adam, SGD, RMSprop, lr_scheduler\n",
    "from torch.utils.data import TensorDataset, DataLoader, ConcatDataset\n",
    "\n",
    "import shap\n",
    "\n",
    "from data import get_img_dataset\n",
    "from project3Lib.transforms import EnhanceContrast\n",
    "import project3Lib.CNN as cnn\n",
    "from masked_dataset import MaskedDataset\n",
    "from pathlib import Path\n",
    "import project3Lib.utils as utils\n"
   ]
  },
  {
   "cell_type": "code",
   "execution_count": null,
   "id": "063a7825",
   "metadata": {
    "scrolled": true
   },
   "outputs": [],
   "source": [
    "# load data and transform data if augmentation == yes\n",
    "augmentation = input(\"Use augmentation? [yes/no]\").lower() == \"yes\"\n",
    "\n",
    "unique = input(\"Use unique images?[yes/no]\").lower() == \"yes\"\n",
    "input_path = \"data/unique_images\" if unique else \"data/images\"\n",
    "\n",
    "if augmentation:\n",
    "    transform = [EnhanceContrast(reduce_dim=False)]\n",
    "    train_dataset,val_dataset, test_dataset = get_img_dataset(transform, data_path=input_path, use_same_transforms = True)\n",
    "    transform = [EnhanceContrast(reduce_dim=False), transforms.RandomRotation(70), transforms.RandomHorizontalFlip(), transforms.ColorJitter()]\n",
    "    train_dataset2,val_dataset2, _ = get_img_dataset(transform,data_path=input_path, use_same_transforms = True)\n",
    "    train_dataset = ConcatDataset([train_dataset,train_dataset2, train_dataset2] )\n",
    "    val_dataset = ConcatDataset([val_dataset,val_dataset2,val_dataset2])\n",
    "    \n",
    "    model_file_path = \"baselineCNN_augmented_unique\" if unique else \"baselineCNN_augmented\"\n",
    "    \n",
    "else: \n",
    "    train_dataset, val_dataset, test_dataset = get_img_dataset(data_path=input_path)\n",
    "    \n",
    "    model_file_path = \"baselineCNN_unique\" if unique else \"baselineCNN\"\n",
    "\n",
    "model_file_path = \"trained_weights/\" + model_file_path\n",
    "device = 'cuda:0' if torch.cuda.is_available() else 'cpu'\n",
    "print('Device state:', device)\n",
    "batch_size = 16\n",
    "trainloader = DataLoader(train_dataset, batch_size=batch_size, shuffle=True)\n",
    "testloader = DataLoader(test_dataset, batch_size=batch_size, shuffle=False)\n",
    "validloader = DataLoader(val_dataset, batch_size=batch_size, shuffle=True)\n",
    "print(f\"Class sizes{np.unique([y for x,y in train_dataset], return_counts = True)}\")\n",
    "\n",
    "dataloaders = {\n",
    "    'train' : trainloader, \n",
    "    'validation': validloader\n",
    "}\n",
    "\n",
    "image_datasets = {\n",
    "    'train': train_dataset,\n",
    "    'validation': val_dataset\n",
    "}"
   ]
  },
  {
   "cell_type": "code",
   "execution_count": null,
   "id": "e083e554",
   "metadata": {},
   "outputs": [],
   "source": [
    "def train_model(model, criterion, optimizer, dataloaders, image_datasets, patience = 0, num_epochs=3):\n",
    "    last_loss = 200\n",
    "    triggertimes = 0\n",
    "    for epoch in range(num_epochs):\n",
    "        print('Epoch {}/{}'.format(epoch+1, num_epochs))\n",
    "        print('-' * 10)\n",
    "        \n",
    "        for phase in ['train', 'validation']:\n",
    "            if phase == 'train':\n",
    "                model.train()\n",
    "            else:\n",
    "                model.eval()\n",
    "\n",
    "            running_loss = 0.0\n",
    "            running_corrects = 0\n",
    "\n",
    "            for inputs, labels in dataloaders[phase]:\n",
    "                inputs = inputs.to(device)\n",
    "                labels = labels.to(device)\n",
    "\n",
    "                outputs = model(inputs)\n",
    "                loss = criterion(outputs, labels)\n",
    "\n",
    "                if phase == 'train':\n",
    "                    optimizer.zero_grad()\n",
    "                    loss.backward()\n",
    "                    optimizer.step()\n",
    "\n",
    "                _, preds = torch.max(outputs, 1)\n",
    "                running_loss += loss.item() * inputs.size(0)\n",
    "                running_corrects += torch.sum(preds == labels.data)\n",
    "\n",
    "            epoch_loss = running_loss / len(image_datasets[phase])\n",
    "            epoch_acc = running_corrects.double() / len(image_datasets[phase])\n",
    "\n",
    "            print('{} loss: {:.4f}, acc: {:.4f}'.format(phase,\n",
    "                                                        epoch_loss,\n",
    "                                                        epoch_acc))\n",
    "            \n",
    "            # Early stopping\n",
    "            if phase == 'train' or patience <= 0:\n",
    "                continue\n",
    "            \n",
    "            if epoch_loss > last_loss:\n",
    "                trigger_times += 1\n",
    "                if trigger_times >= patience:\n",
    "                    return best_model\n",
    "            else:\n",
    "                trigger_times = 0\n",
    "                best_model = model\n",
    "\n",
    "            last_loss = epoch_loss\n",
    "            \n",
    "    return best_model\n",
    "\n",
    "def predict(model, x):\n",
    "    model.eval()\n",
    "    out = model(x.reshape(1, 3, 128, 128))   \n",
    "    _,prediction = torch.max(out, dim=1)\n",
    "    return prediction[0].item(), out\n",
    "\n",
    "def test(model, test_dataset):\n",
    "    x_test = [i for i,j in test_dataset]\n",
    "    y_test = [j for i,j in test_dataset]\n",
    "    preds = []\n",
    "    outs = []\n",
    "    for t in x_test:\n",
    "        pred, out = predict(model, t)\n",
    "        preds.append(pred)\n",
    "\n",
    "    return accuracy_score(preds,y_test), f1_score(preds,y_test)"
   ]
  },
  {
   "cell_type": "markdown",
   "id": "0d79de3e",
   "metadata": {},
   "source": [
    "## Hyperparameters"
   ]
  },
  {
   "cell_type": "code",
   "execution_count": null,
   "id": "dea9d336",
   "metadata": {
    "scrolled": true
   },
   "outputs": [],
   "source": [
    "# hyperparameters\n",
    "parameters = {\n",
    "    \"lr\": [0.001,0.0005,0.0001],\n",
    "    \"optimizers\": [\"SGD\", \"Adam\", \"RMSprop\"]\n",
    "}\n",
    "\n",
    "results = {}\n",
    "\n",
    "epochs = 50\n",
    "for opt in parameters[\"optimizers\"]:\n",
    "    for lr in parameters[\"lr\"]:\n",
    "        model = cnn.BaselineClf()\n",
    "        criterion = CrossEntropyLoss()\n",
    "\n",
    "        if opt == \"SGD\":\n",
    "            optimizer = SGD(model.parameters(), lr=lr)\n",
    "        elif opt == \"Adam\":\n",
    "            optimizer = Adam(model.parameters(), lr=lr)\n",
    "        else:\n",
    "            optimizer = RMSprop(model.parameters(), lr=lr)\n",
    "\n",
    "        model = train_model(model, criterion, optimizer, dataloaders, image_datasets, 4, num_epochs=epochs)\n",
    "\n",
    "        val_acc, val_f1 = test(model, val_dataset)\n",
    "\n",
    "        results[f\"{opt}_{lr}\"] = (val_acc, val_f1)\n",
    "        print(f\"{opt}_{lr} - acc: {val_acc} - f1: {val_f1}\")\n",
    "    "
   ]
  },
  {
   "cell_type": "markdown",
   "id": "58f85359",
   "metadata": {},
   "source": [
    "Optimal hyperparameters for **unique dataset (no augmentation)**: \n",
    "```\n",
    "{'SGD_0.001': (0.4, 0.3333333333333333),\n",
    " 'SGD_0.0005': (0.7, 0.7692307692307692),\n",
    " 'SGD_0.0001': (0.65, 0.7741935483870968),\n",
    " 'Adam_0.001': (0.65, 0.7199999999999999),\n",
    " 'Adam_0.0005': (0.7, 0.7692307692307692),\n",
    " 'Adam_0.0001': (0.65, 0.7407407407407408),\n",
    " 'RMSprop_0.001': (0.75, 0.8148148148148148),\n",
    " 'RMSprop_0.0005': (0.7, 0.7692307692307692),\n",
    " 'RMSprop_0.0001': (0.6, 0.6923076923076924)}\n",
    "```\n",
    " \n",
    " \n",
    "Optimal hyperparameters for **augmented dataset**:\n",
    " \n",
    "```\n",
    "{'SGD_0.001': (0.7333333333333333, 0.7999999999999999),\n",
    " 'SGD_0.0005': (0.6666666666666666, 0.7560975609756099),\n",
    " 'SGD_0.0001': (0.7166666666666667, 0.7848101265822784),\n",
    " 'Adam_0.001': (0.6166666666666667, 0.7578947368421053),\n",
    " 'Adam_0.0005': (0.5666666666666667, 0.5937499999999999),\n",
    " 'Adam_0.0001': (0.6666666666666666, 0.7435897435897436),\n",
    " 'RMSprop_0.001': (0.6833333333333333, 0.7164179104477612),\n",
    " 'RMSprop_0.0005': (0.5166666666666667, 0.5084745762711865),\n",
    " 'RMSprop_0.0001': (0.65, 0.7272727272727273)}\n",
    "```"
   ]
  },
  {
   "cell_type": "code",
   "execution_count": null,
   "id": "b5eb5c3a",
   "metadata": {},
   "outputs": [],
   "source": [
    "total_trainable_params = sum(\n",
    "    p.numel() for p in model.parameters() if p.requires_grad)\n",
    "print(f'{total_trainable_params:,} training parameters.')"
   ]
  },
  {
   "cell_type": "markdown",
   "id": "59e23f47",
   "metadata": {},
   "source": [
    "# Train final model"
   ]
  },
  {
   "cell_type": "code",
   "execution_count": null,
   "id": "a5222b48",
   "metadata": {
    "scrolled": true
   },
   "outputs": [],
   "source": [
    "n = 20\n",
    "accs = []\n",
    "f1s = []\n",
    "for i in range(n):\n",
    "    model = cnn.BaselineClf()\n",
    "    criterion = CrossEntropyLoss()\n",
    "    if augmentation:\n",
    "        optimizer = SGD(model.parameters(), lr=0.001)\n",
    "    else:\n",
    "        optimizer = RMSprop(model.parameters(), lr=0.001)\n",
    "    epochs = 50\n",
    "    model = train_model(model, criterion, optimizer, dataloaders, image_datasets, 4, num_epochs=epochs)\n",
    "    acc, f1 = test(model, test_dataset)\n",
    "    accs.append(acc)\n",
    "    f1s.append(f1)"
   ]
  },
  {
   "cell_type": "code",
   "execution_count": null,
   "id": "b06b9cdf",
   "metadata": {},
   "outputs": [],
   "source": [
    "torch.save(model.state_dict(), f\"{model_file_path}.pt\")"
   ]
  },
  {
   "cell_type": "code",
   "execution_count": null,
   "id": "484376e2",
   "metadata": {},
   "outputs": [],
   "source": [
    "a, f = test(model, test_dataset)\n",
    "print(f\"Accuracy mean: {np.mean(accs)} std: {np.std(accs)}\")\n",
    "print(f\"F1 mean: {np.mean(f1s)} std: {np.std(f1s)}\")\n",
    "print(f\"Score of saved model: acc = {a} and f1 = {f}\")"
   ]
  },
  {
   "cell_type": "markdown",
   "id": "589d1956",
   "metadata": {},
   "source": [
    "Using unique images according to our filtering method, resulted in our CNN Baseline not converging. Trying out different learning rates, optimizers, early stopping patience and max number of epochs can not solve this issue. To demonstrate this, we report the mean performance scores and their variances from training the baseline model 20 times. The following results can be observed for using **no augmentation**: \n",
    "\n",
    "```\n",
    "    In 20 runs: \n",
    "    Accuracy mean: 0.7049999999999998 std: 0.09733961166965893\n",
    "    F1 mean: 0.706971187025535 std: 0.12677314667331263\n",
    "```\n",
    "\n",
    "with **augmentation**: \n",
    "\n",
    "```\n",
    "    In 20 runs: \n",
    "    Accuracy mean: 0.7250000000000001 std: 0.07500000000000001\n",
    "    F1 mean: 0.7149891216454686 std: 0.0951993497268051\n",
    "```\n",
    "\n",
    "we suspect, that the baseline CNN has too many parameters (in total 1,606,802 parameters). "
   ]
  },
  {
   "cell_type": "code",
   "execution_count": null,
   "id": "86e58717",
   "metadata": {},
   "outputs": [],
   "source": [
    "x_test = [i for i,j in test_dataset]\n",
    "y_test = [j for i,j in test_dataset]\n",
    "preds = []\n",
    "outs = []\n",
    "for t in x_test:\n",
    "    pred, out = predict(model, t)\n",
    "    preds.append(pred)\n",
    "    \n",
    "cm=confusion_matrix(y_test,preds,normalize=\"true\")\n",
    "cmd = ConfusionMatrixDisplay(cm)\n",
    "cmd.plot()"
   ]
  },
  {
   "cell_type": "markdown",
   "id": "b71194f4",
   "metadata": {},
   "source": [
    "**No augmentation model** with accuracy = 0.75 and f1 = 0.7826086956521738\n",
    "\n",
    "![](Plots/CM_Baseline_Unique_NoAugmentation.png)\n",
    "\n",
    "**Augmentation model** with acc = 0.75 and f1 = 0.761904761904762"
   ]
  },
  {
   "cell_type": "code",
   "execution_count": null,
   "id": "97aef033",
   "metadata": {},
   "outputs": [],
   "source": [
    "model = cnn.BaselineClf()\n",
    "model.load_state_dict(torch.load(f\"{model_file_path}.pt\"))\n",
    "model.eval()"
   ]
  },
  {
   "cell_type": "code",
   "execution_count": null,
   "id": "c1d1e1ed",
   "metadata": {},
   "outputs": [],
   "source": [
    "test_dataset_nomasks = test_dataset\n",
    "if augmentation: \n",
    "    common_transform = [EnhanceContrast(reduce_dim=False)]\n",
    "    _,_, test_dataset = get_img_dataset(common_transforms=common_transform, \\\n",
    "                                        data_path=input_path, \\\n",
    "                                        folder_type = MaskedDataset, \\\n",
    "                                        mask_folder=Path(\"data/masks\"))\n",
    "else:\n",
    "    transform = []\n",
    "    common_transform = []\n",
    "    _,_, test_dataset = get_img_dataset(transform = transform, \\\n",
    "                                        use_same_transforms=True, \\\n",
    "                                        common_transforms=common_transform, \\\n",
    "                                        data_path=input_path, \\\n",
    "                                        folder_type = MaskedDataset, \\\n",
    "                                        mask_folder=Path(\"data/masks\"))"
   ]
  },
  {
   "cell_type": "markdown",
   "id": "6ef711fa",
   "metadata": {},
   "source": [
    "## SHAP"
   ]
  },
  {
   "cell_type": "code",
   "execution_count": null,
   "id": "e2751999",
   "metadata": {},
   "outputs": [],
   "source": [
    "# Deep Explainer\n",
    "bg = [i for i,j in train_dataset]\n",
    "bg = torch.stack(bg)\n",
    "e = shap.DeepExplainer(model, bg)\n",
    "outs = []\n",
    "for i in bg:\n",
    "    pred, out = predict(model,i)\n",
    "    outs.append((out[0][0].item(), out[0][1].item()))\n",
    "print(f\"Mean values {np.mean([i for i,j in outs])}, {np.mean([j for i,j in outs])}\")"
   ]
  },
  {
   "cell_type": "code",
   "execution_count": null,
   "id": "3157cbb3",
   "metadata": {},
   "outputs": [],
   "source": [
    "ious = []\n",
    "for i, (image,mask,target) in enumerate(test_dataset):\n",
    "    image = image.reshape((1,3,128,128))\n",
    "    pred, out = predict(model,image)\n",
    "    \n",
    "    shap_values = e.shap_values(image)\n",
    "    shap_numpy = [np.swapaxes(np.swapaxes(s, 1, -1), 1, 2) for s in shap_values]\n",
    "    test_numpy = np.swapaxes(np.swapaxes(image.cpu().numpy(), 1, -1), 1, 2)\n",
    "    print(f\"Image #{i}: True Class {target}, Prediction {pred}, Probabilities {out}\")\n",
    "    shap.image_plot(shap_numpy, test_numpy, labels = [\"SHAP for class 0\",\"SHAP for class 1\"])\n",
    "    \n",
    "    predicted_mask = np.copy(shap_values[1].reshape(3,128,128))\n",
    "    mask = mask.reshape((128,128))\n",
    "    mask = torch.stack([mask, mask,mask])\n",
    "    pixels = int(np.sum(mask.numpy().flatten()))\n",
    "    iou = utils.evaluate_interpretability(predicted_mask, mask,pixels)\n",
    "    print(iou)\n",
    "    if target == 1:\n",
    "        ious.append(iou)\n",
    "    if i == 0:\n",
    "        np.save(\"Plots/Baseline_SHAP_0\", predicted_mask)\n",
    "    if i == 1:\n",
    "        a = predicted_mask\n",
    "        np.save(\"Plots/Baseline_SHAP_1\", predicted_mask)\n",
    "print(f\"Mean IOU: {np.mean(ious)}\")"
   ]
  },
  {
   "cell_type": "markdown",
   "id": "7b844798",
   "metadata": {},
   "source": [
    "**No augmentation**\n",
    "```\n",
    "0.0711\n",
    "```\n",
    "**augmentation**\n",
    "```\n",
    "0.09133420643751193\n",
    "```"
   ]
  },
  {
   "cell_type": "markdown",
   "id": "11ced5f4",
   "metadata": {},
   "source": [
    "## Integrated Gradient"
   ]
  },
  {
   "cell_type": "code",
   "execution_count": null,
   "id": "19fc12b1",
   "metadata": {},
   "outputs": [],
   "source": [
    "ious = []\n",
    "for i, (image,mask,target) in enumerate(test_dataset):\n",
    "    data = (image,target)\n",
    "    \n",
    "    if target == 1: \n",
    "        class_1, class_0 = utils.plot_grads(data,model, layer_idx = -1,plot=False,grad_type= \"integ_grads\")\n",
    "    else:\n",
    "        class_0, class_1 = utils.plot_grads(data,model, layer_idx = -1,plot=False,grad_type= \"integ_grads\")\n",
    "    predicted_mask = np.copy(class_1.reshape(3,128,128))\n",
    "    mask = mask.reshape((128,128))\n",
    "    mask = torch.stack([mask, mask,mask])\n",
    "    pixels = int(np.sum(mask.numpy().flatten()))\n",
    "    iou = utils.evaluate_interpretability(predicted_mask, mask,pixels)\n",
    "    print(iou)\n",
    "    if target == 1:\n",
    "        ious.append(iou)\n",
    "    if i == 0:\n",
    "        np.save(\"Plots/Baseline_Augmentation_IntGrad_0\", predicted_mask)\n",
    "    if i == 1:\n",
    "        np.save(\"Plots/Baseline_Augmentation_IntGrad_1\", predicted_mask)\n",
    "print(f\"The mean iou is {np.mean(ious)}\")"
   ]
  },
  {
   "cell_type": "markdown",
   "id": "0c4c611e",
   "metadata": {},
   "source": [
    "No augmentation\n",
    "```\n",
    "0.08154682005780925\n",
    "```\n",
    "\n",
    "Augmentation: 0.08734029258400018"
   ]
  },
  {
   "cell_type": "code",
   "execution_count": null,
   "id": "39043af3",
   "metadata": {},
   "outputs": [],
   "source": [
    "utils.plot_grads_dataloader(test_dataset_nomasks, model, grad_type= \"integ_grads\" ,plot=True, save_name=\"baseline_augmentation\")"
   ]
  },
  {
   "cell_type": "markdown",
   "id": "97d884c8",
   "metadata": {},
   "source": [
    "## GradCam"
   ]
  },
  {
   "cell_type": "code",
   "execution_count": null,
   "id": "469fa331",
   "metadata": {
    "scrolled": true
   },
   "outputs": [],
   "source": [
    "ious = []\n",
    "for i, (image,mask, target) in enumerate(test_dataset):\n",
    "    data = (image,target)\n",
    "    a, b = utils.plot_grads(data,model, layer_idx = 6,plot=False,grad_type= \"grad_cam\")\n",
    "    if target ==1:\n",
    "        class_1 = a\n",
    "    else:\n",
    "        class_1 = b\n",
    "    predicted_mask = np.copy(class_1.detach().numpy().reshape(128,128))\n",
    "    mask = mask.reshape((128,128))\n",
    "    #mask = torch.stack([mask, mask,mask])\n",
    "    pixels = int(np.sum(mask.numpy().flatten()))\n",
    "    iou = utils.evaluate_interpretability(predicted_mask, mask,pixels)\n",
    "    print(iou)\n",
    "    if target == 1:\n",
    "        ious.append(iou)\n",
    "    if i == 0:\n",
    "        np.save(\"Plots/Baseline_Augmentation_GradCam_0\", predicted_mask)\n",
    "    if i == 1:\n",
    "        np.save(\"Plots/Baseline_Augmentation_GradCam_1\", predicted_mask)\n",
    "print(f\"The mean iou is {np.mean(ious)}\")"
   ]
  },
  {
   "cell_type": "markdown",
   "id": "f562f87a",
   "metadata": {},
   "source": [
    "No augmentation: \n",
    "```\n",
    "The mean iou is 0.03695559681435451\n",
    "```\n",
    "Augmentation:\n",
    "```\n",
    "The mean iou is 0.2043\n",
    "```"
   ]
  },
  {
   "cell_type": "code",
   "execution_count": null,
   "id": "6b2a73da",
   "metadata": {},
   "outputs": [],
   "source": [
    "utils.plot_grads_dataloader(test_dataset_nomasks, model, grad_type= \"grad_cam\" ,plot=True,layer_idx=6, save_name=\"cnn\")"
   ]
  }
 ],
 "metadata": {
  "kernelspec": {
   "display_name": "BrainMRI",
   "language": "python",
   "name": "brainmri"
  },
  "language_info": {
   "codemirror_mode": {
    "name": "ipython",
    "version": 3
   },
   "file_extension": ".py",
   "mimetype": "text/x-python",
   "name": "python",
   "nbconvert_exporter": "python",
   "pygments_lexer": "ipython3",
   "version": "3.10.4"
  }
 },
 "nbformat": 4,
 "nbformat_minor": 5
}
